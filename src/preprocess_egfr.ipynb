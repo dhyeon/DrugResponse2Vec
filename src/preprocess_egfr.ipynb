{
 "cells": [
  {
   "cell_type": "code",
   "execution_count": null,
   "metadata": {
    "collapsed": true
   },
   "outputs": [],
   "source": [
    "#DB00002    Cetuximab    approved    yes    antagonist    Details\n",
    "#DB00317    Gefitinib    approved, investigational    yes    antagonist    Details\n",
    "#DB00530    Erlotinib    approved, investigational    yes    antagonist    Details\n",
    "#DB01259    Lapatinib    approved, investigational    yes    antagonist    Details\n",
    "#DB01269    Panitumumab    approved, investigational    yes (edited)\n",
    "\n",
    "import random\n",
    "import shutil\n",
    "import os\n",
    "\n",
    "rootdir = '../data/pert'\n",
    "outdir = '../data/pert_EGFR/'\n",
    "\n",
    "dirsAndFiles = {}   # here we store a structure  {folder: [file1, file2], folder2: [file2, file4] }\n",
    "dirs = [x[0] for x in os.walk(rootdir)] # here we store all sub-dirs\n",
    "\n",
    "EGFR_list = ['gefitinib.csv', 'erlotinib.csv', 'lapatinib.csv', 'metformin.csv']\n",
    "\n",
    "for dir in dirs:\n",
    "    dirsAndFiles[dir] = [f for f in os.listdir(dir) if os.path.isfile(os.path.join(dir, f))]\n",
    "    \n",
    "for (dir, files) in dirsAndFiles.iteritems():\n",
    "    for fe in EGFR_list:\n",
    "        shutil.copy(os.path.join(dir, fe), outdir)\n",
    "        \n"
   ]
  },
  {
   "cell_type": "code",
   "execution_count": null,
   "metadata": {
    "collapsed": true
   },
   "outputs": [],
   "source": [
    "import pandas as pd\n",
    "from os import listdir\n",
    "from os.path import isfile, join\n",
    "import numpy as np\n",
    "\n",
    "outdir = '../data/pert/'\n",
    "perts = [f for f in listdir(outdir) if isfile(join(outdir, f))]\n",
    "#np.ma.array((a, b, c)).mean(axis=0)\n",
    "\n",
    "avg_pert = {}\n",
    "pick1_pert = {}\n",
    "\n",
    "for p in perts:\n",
    "    pert = pd.read_csv(os.path.join(outdir,p))\n",
    "    print p, len(pert.columns.values[1:])\n",
    "    experiments = []\n",
    "    \n",
    "    # Average\n",
    "    for exp in pert.columns.values[1:]:\n",
    "        #print exp\n",
    "        #print pert[exp].values\n",
    "        experiments.append(pert[exp].values.reshape(1,-1))\n",
    "        \n",
    "    avg_experiment = np.array(experiments).mean(axis=0)\n",
    "    avg_pert[p] = avg_experiment\n",
    "    \n",
    "    \n",
    "    # Pick one of any\n",
    "    pick1_pert[p] = experiments[0]\n",
    "    \n",
    "    print"
   ]
  },
  {
   "cell_type": "code",
   "execution_count": null,
   "metadata": {
    "collapsed": true
   },
   "outputs": [],
   "source": [
    "from sklearn.metrics.pairwise import cosine_similarity, paired_cosine_distances\n",
    "\n",
    "#print avg_pert['erlotinib.csv']\n",
    "#print avg_pert['erlotinib.csv'].reshape(-1,1)\n",
    "\n",
    "# CARBOPLATIN x\n",
    "# CYCLOPHOSPHAMIDE o\n",
    "# MITOMYCINE x\n",
    "# OXALIPLATIN x\n",
    "# TEMOZOLOMIDE o\n",
    "# DOXORUBICIN o\n",
    "# GEMCITABINE\n",
    "\n",
    "\n",
    "print \"EGFR Related Drugs\"\n",
    "print \"erlotinib vs. gefitinib:\", cosine_similarity(avg_pert['erlotinib.csv'], avg_pert['gefitinib.csv'])[0][0]\n",
    "print \"erlotinib vs. lapatinib:\", cosine_similarity(avg_pert['erlotinib.csv'], avg_pert['lapatinib.csv'])[0][0]\n",
    "print \"gefitinib vs. lapatinib:\", cosine_similarity(avg_pert['gefitinib.csv'], avg_pert['lapatinib.csv'])[0][0]\n",
    "print\n",
    "\n",
    "print \"??? Related Drugs\"\n",
    "print \"cyclophosphamide vs. temozolomide:\", cosine_similarity(avg_pert['cyclophosphamide.csv'], avg_pert['temozolomide.csv'])[0][0]\n",
    "print \"cyclophosphamide vs. doxorubicin:\", cosine_similarity(avg_pert['cyclophosphamide.csv'], avg_pert['doxorubicin.csv'])[0][0]\n",
    "print \"cyclophosphamide vs. gemcitabine:\", cosine_similarity(avg_pert['cyclophosphamide.csv'], avg_pert['gemcitabine.csv'])[0][0]\n",
    "print\n",
    "\n",
    "print \"EGFR vs. ???\"\n",
    "print \"erlotinib vs. cyclophosphamide:\", cosine_similarity(avg_pert['erlotinib.csv'], avg_pert['cyclophosphamide.csv'])[0][0]\n",
    "\n",
    "print\n",
    "print cosine_similarity(pick1_pert['erlotinib.csv'], pick1_pert['gefitinib.csv'])\n",
    "print cosine_similarity(pick1_pert['erlotinib.csv'], pick1_pert['lapatinib.csv'])\n",
    "print cosine_similarity(pick1_pert['erlotinib.csv'], pick1_pert['metformin.csv'])"
   ]
  },
  {
   "cell_type": "code",
   "execution_count": null,
   "metadata": {
    "collapsed": true
   },
   "outputs": [],
   "source": [
    "import numpy as np; import pandas as pd\n",
    "from sklearn.metrics.pairwise import cosine_similarity\n",
    "\n",
    "df = df = pd.DataFrame(np.random.randint(0,100,size=(10, 4)), columns=list('ABCD'))\n",
    "df"
   ]
  },
  {
   "cell_type": "code",
   "execution_count": null,
   "metadata": {
    "collapsed": true
   },
   "outputs": [],
   "source": [
    "count = 0\n",
    "for i in cosine_similarity(df):\n",
    "    print count\n",
    "    print i\n",
    "    count = count + 1"
   ]
  }
 ],
 "metadata": {
  "kernelspec": {
   "display_name": "Python 2",
   "language": "python",
   "name": "python2"
  },
  "language_info": {
   "codemirror_mode": {
    "name": "ipython",
    "version": 2
   },
   "file_extension": ".py",
   "mimetype": "text/x-python",
   "name": "python",
   "nbconvert_exporter": "python",
   "pygments_lexer": "ipython2",
   "version": "2.7.6"
  }
 },
 "nbformat": 4,
 "nbformat_minor": 2
}
